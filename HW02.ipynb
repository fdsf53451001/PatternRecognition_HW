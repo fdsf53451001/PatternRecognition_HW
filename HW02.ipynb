{
 "cells": [
  {
   "cell_type": "markdown",
   "id": "4023bfc6-22aa-4545-8c19-48b4ae101a3b",
   "metadata": {},
   "source": [
    "# 長庚大學 資工系/人工智慧學程  樣形識別/深度學習 課程使用之教材及示範程式 Ch02"
   ]
  },
  {
   "cell_type": "code",
   "execution_count": 503,
   "id": "fe262b16-1ad9-4057-8abf-188f9f0ed3dc",
   "metadata": {},
   "outputs": [],
   "source": [
    "import numpy as np\n",
    "import tensorflow as tf\n",
    "import tensorflow.keras as keras"
   ]
  },
  {
   "cell_type": "code",
   "execution_count": 504,
   "id": "c5f9aa07-85d8-47f3-a8a9-edd2264ea3fb",
   "metadata": {},
   "outputs": [],
   "source": [
    "(xr,yr), (xt,yt)= keras.datasets.mnist.load_data()"
   ]
  },
  {
   "cell_type": "code",
   "execution_count": 505,
   "id": "8c5713fc-00c8-4659-8831-21ba3832f17e",
   "metadata": {},
   "outputs": [
    {
     "data": {
      "text/plain": [
       "((60000, 28, 28), (60000,), (10000, 28, 28), (10000,))"
      ]
     },
     "execution_count": 505,
     "metadata": {},
     "output_type": "execute_result"
    }
   ],
   "source": [
    "xr.shape, yr.shape, xt.shape, yt.shape"
   ]
  },
  {
   "cell_type": "code",
   "execution_count": 506,
   "id": "66533075-600c-49d1-9a29-4f3e5d8d7b03",
   "metadata": {},
   "outputs": [
    {
     "name": "stdout",
     "output_type": "stream",
     "text": [
      "  0  0  0  0  0  0  0  0  0  0  0  0  0  0  0  0  0  0  0  0  0  0  0  0  0  0  0  0\n",
      "  0  0  0  0  0  0  0  0  0  0  0  0  0  0  0  0  0  0  0  0  0  0  0  0  0  0  0  0\n",
      "  0  0  0  0  0  0  0  0  0  0  0  0  0  0  0  0  0  0  0  0  0  0  0  0  0  0  0  0\n",
      "  0  0  0  0  0  0  0  0  0  0  0  0  0  0  0  0  0  0  0  0  0  0  0  0  0  0  0  0\n",
      "  0  0  0  0  0  0  0  0  0  0  0  0  0  0  0  0  0  0  0  0  0  0  0  0  0  0  0  0\n",
      "  0  0  0  0  0  0  0  0  0  0  0  0  3 18 18 18126136175 26166255247127  0  0  0  0\n",
      "  0  0  0  0  0  0  0  0 30 36 94154170253253253253253225172253242195 64  0  0  0  0\n",
      "  0  0  0  0  0  0  0 49238253253253253253253253253251 93 82 82 56 39  0  0  0  0  0\n",
      "  0  0  0  0  0  0  0 18219253253253253253198182247241  0  0  0  0  0  0  0  0  0  0\n",
      "  0  0  0  0  0  0  0  0 80156107253253205 11  0 43154  0  0  0  0  0  0  0  0  0  0\n",
      "  0  0  0  0  0  0  0  0  0 14  1154253 90  0  0  0  0  0  0  0  0  0  0  0  0  0  0\n",
      "  0  0  0  0  0  0  0  0  0  0  0139253190  2  0  0  0  0  0  0  0  0  0  0  0  0  0\n",
      "  0  0  0  0  0  0  0  0  0  0  0 11190253 70  0  0  0  0  0  0  0  0  0  0  0  0  0\n",
      "  0  0  0  0  0  0  0  0  0  0  0  0 35241225160108  1  0  0  0  0  0  0  0  0  0  0\n",
      "  0  0  0  0  0  0  0  0  0  0  0  0  0 81240253253119 25  0  0  0  0  0  0  0  0  0\n",
      "  0  0  0  0  0  0  0  0  0  0  0  0  0  0 45186253253150 27  0  0  0  0  0  0  0  0\n",
      "  0  0  0  0  0  0  0  0  0  0  0  0  0  0  0 16 93252253187  0  0  0  0  0  0  0  0\n",
      "  0  0  0  0  0  0  0  0  0  0  0  0  0  0  0  0  0249253249 64  0  0  0  0  0  0  0\n",
      "  0  0  0  0  0  0  0  0  0  0  0  0  0  0 46130183253253207  2  0  0  0  0  0  0  0\n",
      "  0  0  0  0  0  0  0  0  0  0  0  0 39148229253253253250182  0  0  0  0  0  0  0  0\n",
      "  0  0  0  0  0  0  0  0  0  0 24114221253253253253201 78  0  0  0  0  0  0  0  0  0\n",
      "  0  0  0  0  0  0  0  0 23 66213253253253253198 81  2  0  0  0  0  0  0  0  0  0  0\n",
      "  0  0  0  0  0  0 18171219253253253253195 80  9  0  0  0  0  0  0  0  0  0  0  0  0\n",
      "  0  0  0  0 55172226253253253253244133 11  0  0  0  0  0  0  0  0  0  0  0  0  0  0\n",
      "  0  0  0  0136253253253212135132 16  0  0  0  0  0  0  0  0  0  0  0  0  0  0  0  0\n",
      "  0  0  0  0  0  0  0  0  0  0  0  0  0  0  0  0  0  0  0  0  0  0  0  0  0  0  0  0\n",
      "  0  0  0  0  0  0  0  0  0  0  0  0  0  0  0  0  0  0  0  0  0  0  0  0  0  0  0  0\n",
      "  0  0  0  0  0  0  0  0  0  0  0  0  0  0  0  0  0  0  0  0  0  0  0  0  0  0  0  0\n"
     ]
    }
   ],
   "source": [
    "x= xr[0]\n",
    "#%%\n",
    "for i in range(28):\n",
    "    for j in range(28):\n",
    "        z= x[i,j]\n",
    "        print(f'{z:3d}', end='')\n",
    "    print()"
   ]
  },
  {
   "cell_type": "code",
   "execution_count": 507,
   "id": "0c746e80-cd34-424c-b622-010923ce355a",
   "metadata": {},
   "outputs": [
    {
     "data": {
      "text/plain": [
       "<matplotlib.image.AxesImage at 0x2336d0bb520>"
      ]
     },
     "execution_count": 507,
     "metadata": {},
     "output_type": "execute_result"
    },
    {
     "data": {
      "image/png": "[encoded data removed]",
      "text/plain": [
       "<Figure size 432x288 with 1 Axes>"
      ]
     },
     "metadata": {
      "needs_background": "light"
     },
     "output_type": "display_data"
    }
   ],
   "source": [
    "import matplotlib.pyplot as pl\n",
    "pl.imshow(x)"
   ]
  },
  {
   "cell_type": "code",
   "execution_count": 508,
   "id": "ff90b2c5-df90-456c-aa2d-358a8e892c16",
   "metadata": {},
   "outputs": [
    {
     "name": "stdout",
     "output_type": "stream",
     "text": [
      "y= 5\n"
     ]
    }
   ],
   "source": [
    "y= yr[0]\n",
    "print(f'{y= }')"
   ]
  },
  {
   "cell_type": "markdown",
   "id": "8b4ee66f-1d7c-4cf2-bc53-6107399974b9",
   "metadata": {},
   "source": [
    "# 想想看，你能做那些改進來提升正確率 (accuracy) ？\n"
   ]
  },
  {
   "cell_type": "markdown",
   "id": "63e67605",
   "metadata": {},
   "source": [
    "1. 修改模型層數、參數量 1 layer with 300 units\n",
    "   \n",
    "   (28*28的手寫數字圖像相當小，且分類問題簡單，不需要太多層)\n",
    "\n",
    "2. 使用adam optimizer\n",
    "   \n",
    "   (adam會自動調整learning rate，並保留學習方向的動量，達到更好的學習成效)\n",
    "\n",
    "3. 增加batchs -> 200\n",
    "   \n",
    "   (batchs為一次送入GPU的數量，原則上GPU Memory足夠則越大越好)\n",
    "\n",
    "4. 增加epochs -> 15\n",
    "\n",
    "   (經過測試，epochs=10尚未完全收斂，增加訓練次數達到更好成效)\n",
    "\n",
    "5. 輸入標準化!! 這個影響很重\n",
    "   \n",
    "   (原始輸入數據為0-255，將數據標準化到0-1，使模型更容易計算)\n",
    "   "
   ]
  },
  {
   "cell_type": "code",
   "execution_count": 509,
   "id": "7ad94416-53ca-4b00-96b6-936e8fe43f25",
   "metadata": {},
   "outputs": [],
   "source": [
    "xr1= xr.reshape(-1, 28*28) \n",
    "xt1= xt.reshape(-1, 28*28) "
   ]
  },
  {
   "cell_type": "code",
   "execution_count": 510,
   "id": "7c57ed7d",
   "metadata": {},
   "outputs": [],
   "source": [
    "xr1 = xr1 / 255\n",
    "xt1 = xt1 / 255"
   ]
  },
  {
   "cell_type": "code",
   "execution_count": 511,
   "id": "e86ac3ba-b71d-443e-9b83-219886549875",
   "metadata": {},
   "outputs": [
    {
     "name": "stdout",
     "output_type": "stream",
     "text": [
      "Epoch 1/15\n",
      "300/300 [==============================] - 1s 2ms/step - loss: 0.3354 - accuracy: 0.9088\n",
      "Epoch 2/15\n",
      "300/300 [==============================] - 0s 1ms/step - loss: 0.1463 - accuracy: 0.9585\n",
      "Epoch 3/15\n",
      "300/300 [==============================] - 0s 1ms/step - loss: 0.1006 - accuracy: 0.9714\n",
      "Epoch 4/15\n",
      "300/300 [==============================] - 0s 1ms/step - loss: 0.0748 - accuracy: 0.9787\n",
      "Epoch 5/15\n",
      "300/300 [==============================] - 0s 1ms/step - loss: 0.0593 - accuracy: 0.9833\n",
      "Epoch 6/15\n",
      "300/300 [==============================] - 0s 1ms/step - loss: 0.0475 - accuracy: 0.9869\n",
      "Epoch 7/15\n",
      "300/300 [==============================] - 0s 2ms/step - loss: 0.0378 - accuracy: 0.9897\n",
      "Epoch 8/15\n",
      "300/300 [==============================] - 0s 1ms/step - loss: 0.0306 - accuracy: 0.9921\n",
      "Epoch 9/15\n",
      "300/300 [==============================] - 0s 1ms/step - loss: 0.0250 - accuracy: 0.9938\n",
      "Epoch 10/15\n",
      "300/300 [==============================] - 0s 1ms/step - loss: 0.0201 - accuracy: 0.9953\n",
      "Epoch 11/15\n",
      "300/300 [==============================] - 0s 1ms/step - loss: 0.0165 - accuracy: 0.9966\n",
      "Epoch 12/15\n",
      "300/300 [==============================] - 0s 1ms/step - loss: 0.0135 - accuracy: 0.9973\n",
      "Epoch 13/15\n",
      "300/300 [==============================] - 0s 1ms/step - loss: 0.0107 - accuracy: 0.9980\n",
      "Epoch 14/15\n",
      "300/300 [==============================] - 0s 1ms/step - loss: 0.0090 - accuracy: 0.9985\n",
      "Epoch 15/15\n",
      "300/300 [==============================] - 0s 1ms/step - loss: 0.0076 - accuracy: 0.9987\n",
      "313/313 [==============================] - 0s 1ms/step - loss: 0.0668 - accuracy: 0.9807\n"
     ]
    },
    {
     "data": {
      "text/plain": [
       "[0.06678841263055801, 0.9807000160217285]"
      ]
     },
     "execution_count": 511,
     "metadata": {},
     "output_type": "execute_result"
    }
   ],
   "source": [
    "aModel= keras.Sequential([\n",
    "    keras.Input(28*28),\n",
    "    keras.layers.Dense(300, activation= 'relu'), \n",
    "    keras.layers.Dense(10,  activation= 'softmax')\n",
    "    ])\n",
    "\n",
    "aModel.compile(\n",
    "    optimizer = 'adam',\n",
    "    loss=     'sparse_categorical_crossentropy',\n",
    "    metrics= ['accuracy']\n",
    "    )\n",
    "\n",
    "aModel.fit(xr1, yr, \n",
    "           epochs= 15, \n",
    "           batch_size= 200)\n",
    "\n",
    "aModel.evaluate(xt1, yt)"
   ]
  },
  {
   "cell_type": "code",
   "execution_count": 512,
   "id": "c2b2e1b9-b82c-4600-9fc4-9b03e513ea82",
   "metadata": {},
   "outputs": [
    {
     "name": "stdout",
     "output_type": "stream",
     "text": [
      "Model: \"sequential_59\"\n",
      "_________________________________________________________________\n",
      " Layer (type)                Output Shape              Param #   \n",
      "=================================================================\n",
      " dense_149 (Dense)           (None, 300)               235500    \n",
      "                                                                 \n",
      " dense_150 (Dense)           (None, 10)                3010      \n",
      "                                                                 \n",
      "=================================================================\n",
      "Total params: 238,510\n",
      "Trainable params: 238,510\n",
      "Non-trainable params: 0\n",
      "_________________________________________________________________\n",
      "You must install pydot (`pip install pydot`) and install graphviz (see instructions at https://graphviz.gitlab.io/download/) for plot_model/model_to_dot to work.\n"
     ]
    }
   ],
   "source": [
    "aModel.summary()\n",
    "\n",
    "keras.utils.plot_model(aModel, \n",
    "    show_shapes= True, \n",
    "    show_layer_activations= True)"
   ]
  },
  {
   "cell_type": "markdown",
   "id": "3dc4a023",
   "metadata": {},
   "source": [
    "# 結論\n",
    "train acc = 0.9987\n",
    "\n",
    "test_acc = 0.9807"
   ]
  }
 ],
 "metadata": {
  "kernelspec": {
   "display_name": "Python 3.9.12 ('finbert')",
   "language": "python",
   "name": "python3"
  },
  "language_info": {
   "codemirror_mode": {
    "name": "ipython",
    "version": 3
   },
   "file_extension": ".py",
   "mimetype": "text/x-python",
   "name": "python",
   "nbconvert_exporter": "python",
   "pygments_lexer": "ipython3",
   "version": "3.9.12"
  },
  "vscode": {
   "interpreter": {
    "hash": "dc2d75d2bbb1ab8d2c49183bedcbafe25b599ed2fa73b8834cc66076892a6e29"
   }
  }
 },
 "nbformat": 4,
 "nbformat_minor": 5
}
