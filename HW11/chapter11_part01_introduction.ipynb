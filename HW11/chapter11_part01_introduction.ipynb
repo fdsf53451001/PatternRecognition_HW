{
 "cells": [
  {
   "cell_type": "markdown",
   "metadata": {},
   "source": [
    "# B0829024 HW"
   ]
  },
  {
   "cell_type": "markdown",
   "metadata": {
    "colab_type": "text"
   },
   "source": [
    "# Deep learning for text"
   ]
  },
  {
   "cell_type": "markdown",
   "metadata": {
    "colab_type": "text"
   },
   "source": [
    "## Natural-language processing: The bird's eye view"
   ]
  },
  {
   "cell_type": "markdown",
   "metadata": {
    "colab_type": "text"
   },
   "source": [
    "## Preparing text data"
   ]
  },
  {
   "cell_type": "markdown",
   "metadata": {
    "colab_type": "text"
   },
   "source": [
    "### Text standardization"
   ]
  },
  {
   "cell_type": "markdown",
   "metadata": {
    "colab_type": "text"
   },
   "source": [
    "### Text splitting (tokenization)"
   ]
  },
  {
   "cell_type": "markdown",
   "metadata": {
    "colab_type": "text"
   },
   "source": [
    "### Vocabulary indexing"
   ]
  },
  {
   "cell_type": "markdown",
   "metadata": {
    "colab_type": "text"
   },
   "source": [
    "### Using the TextVectorization layer"
   ]
  },
  {
   "cell_type": "code",
   "execution_count": 1,
   "metadata": {
    "colab_type": "code"
   },
   "outputs": [],
   "source": [
    "import string\n",
    "\n",
    "class Vectorizer:\n",
    "    def standardize(self, text):\n",
    "        text = text.lower()\n",
    "        return \"\".join(char for char in text if char not in string.punctuation)\n",
    "\n",
    "    def tokenize(self, text):\n",
    "        text = self.standardize(text)\n",
    "        return text.split()\n",
    "\n",
    "    def make_vocabulary(self, dataset):\n",
    "        self.vocabulary = {\"\": 0, \"[UNK]\": 1}\n",
    "        for text in dataset:\n",
    "            text = self.standardize(text)\n",
    "            tokens = self.tokenize(text)\n",
    "            for token in tokens:\n",
    "                if token not in self.vocabulary:\n",
    "                    self.vocabulary[token] = len(self.vocabulary)\n",
    "        self.inverse_vocabulary = dict(\n",
    "            (v, k) for k, v in self.vocabulary.items())\n",
    "\n",
    "    def encode(self, text):\n",
    "        text = self.standardize(text)\n",
    "        tokens = self.tokenize(text)\n",
    "        return [self.vocabulary.get(token, 1) for token in tokens]\n",
    "\n",
    "    def decode(self, int_sequence):\n",
    "        return \" \".join(\n",
    "            self.inverse_vocabulary.get(i, \"[UNK]\") for i in int_sequence)\n",
    "\n",
    "vectorizer = Vectorizer()\n",
    "dataset = [\n",
    "    \"I write, erase, rewrite\",\n",
    "    \"Erase again, and then\",\n",
    "    \"A poppy blooms.\",\n",
    "]\n",
    "vectorizer.make_vocabulary(dataset)"
   ]
  },
  {
   "cell_type": "code",
   "execution_count": 2,
   "metadata": {
    "colab_type": "code"
   },
   "outputs": [
    {
     "name": "stdout",
     "output_type": "stream",
     "text": [
      "[2, 3, 5, 7, 1, 5, 6]\n"
     ]
    }
   ],
   "source": [
    "test_sentence = \"I write, rewrite, and still rewrite again\"\n",
    "encoded_sentence = vectorizer.encode(test_sentence)\n",
    "print(encoded_sentence)"
   ]
  },
  {
   "cell_type": "code",
   "execution_count": 3,
   "metadata": {
    "colab_type": "code"
   },
   "outputs": [
    {
     "name": "stdout",
     "output_type": "stream",
     "text": [
      "i write rewrite and [UNK] rewrite again\n"
     ]
    }
   ],
   "source": [
    "decoded_sentence = vectorizer.decode(encoded_sentence)\n",
    "print(decoded_sentence)"
   ]
  },
  {
   "cell_type": "code",
   "execution_count": 4,
   "metadata": {
    "colab_type": "code"
   },
   "outputs": [],
   "source": [
    "from tensorflow.keras.layers import TextVectorization\n",
    "text_vectorization = TextVectorization(\n",
    "    output_mode=\"int\",\n",
    ")"
   ]
  },
  {
   "cell_type": "code",
   "execution_count": 5,
   "metadata": {
    "colab_type": "code"
   },
   "outputs": [],
   "source": [
    "import re\n",
    "import string\n",
    "import tensorflow as tf\n",
    "\n",
    "def custom_standardization_fn(string_tensor):\n",
    "    lowercase_string = tf.strings.lower(string_tensor)\n",
    "    return tf.strings.regex_replace(\n",
    "        lowercase_string, f\"[{re.escape(string.punctuation)}]\", \"\")\n",
    "\n",
    "def custom_split_fn(string_tensor):\n",
    "    return tf.strings.split(string_tensor)\n",
    "\n",
    "text_vectorization = TextVectorization(\n",
    "    output_mode=\"int\",\n",
    "    standardize=custom_standardization_fn,\n",
    "    split=custom_split_fn,\n",
    ")"
   ]
  },
  {
   "cell_type": "code",
   "execution_count": 6,
   "metadata": {
    "colab_type": "code"
   },
   "outputs": [],
   "source": [
    "dataset = [\n",
    "    \"I write, erase, rewrite\",\n",
    "    \"Erase again, and then\",\n",
    "    \"A poppy blooms.\",\n",
    "]\n",
    "text_vectorization.adapt(dataset)"
   ]
  },
  {
   "cell_type": "markdown",
   "metadata": {
    "colab_type": "text"
   },
   "source": [
    "**Displaying the vocabulary**"
   ]
  },
  {
   "cell_type": "code",
   "execution_count": 7,
   "metadata": {
    "colab_type": "code"
   },
   "outputs": [
    {
     "data": {
      "text/plain": [
       "['',\n",
       " '[UNK]',\n",
       " 'erase',\n",
       " 'write',\n",
       " 'then',\n",
       " 'rewrite',\n",
       " 'poppy',\n",
       " 'i',\n",
       " 'blooms',\n",
       " 'and',\n",
       " 'again',\n",
       " 'a']"
      ]
     },
     "execution_count": 7,
     "metadata": {},
     "output_type": "execute_result"
    }
   ],
   "source": [
    "text_vectorization.get_vocabulary()"
   ]
  },
  {
   "cell_type": "code",
   "execution_count": 8,
   "metadata": {
    "colab_type": "code"
   },
   "outputs": [
    {
     "name": "stdout",
     "output_type": "stream",
     "text": [
      "tf.Tensor([ 7  3  5  9  1  5 10], shape=(7,), dtype=int64)\n"
     ]
    }
   ],
   "source": [
    "vocabulary = text_vectorization.get_vocabulary()\n",
    "test_sentence = \"I write, rewrite, and still rewrite again\"\n",
    "encoded_sentence = text_vectorization(test_sentence)\n",
    "print(encoded_sentence)"
   ]
  },
  {
   "cell_type": "code",
   "execution_count": 9,
   "metadata": {
    "colab_type": "code"
   },
   "outputs": [
    {
     "name": "stdout",
     "output_type": "stream",
     "text": [
      "i write rewrite and [UNK] rewrite again\n"
     ]
    }
   ],
   "source": [
    "inverse_vocab = dict(enumerate(vocabulary))\n",
    "decoded_sentence = \" \".join(inverse_vocab[int(i)] for i in encoded_sentence)\n",
    "print(decoded_sentence)"
   ]
  },
  {
   "cell_type": "markdown",
   "metadata": {
    "colab_type": "text"
   },
   "source": [
    "## Two approaches for representing groups of words: Sets and sequences"
   ]
  },
  {
   "cell_type": "markdown",
   "metadata": {
    "colab_type": "text"
   },
   "source": [
    "### Preparing the IMDB movie reviews data"
   ]
  },
  {
   "cell_type": "code",
   "execution_count": 10,
   "metadata": {
    "colab_type": "code"
   },
   "outputs": [
    {
     "name": "stderr",
     "output_type": "stream",
     "text": [
      "  % Total    % Received % Xferd  Average Speed   Time    Time     Time  Current\n",
      "                                 Dload  Upload   Total   Spent    Left  Speed\n",
      "\n",
      "  0     0    0     0    0     0      0      0 --:--:-- --:--:-- --:--:--     0\n",
      "  0     0    0     0    0     0      0      0 --:--:-- --:--:-- --:--:--     0\n",
      "  0 80.2M    0     0    0     0      0      0 --:--:--  0:00:01 --:--:--     0\n",
      "  0 80.2M    0  176k    0     0  68596      0  0:20:26  0:00:02  0:20:24 68604\n",
      "  0 80.2M    0  768k    0     0   213k      0  0:06:25  0:00:03  0:06:22  213k\n",
      "  1 80.2M    1 1520k    0     0   331k      0  0:04:07  0:00:04  0:04:03  331k\n",
      "  2 80.2M    2 2432k    0     0   429k      0  0:03:11  0:00:05  0:03:06  483k\n",
      "  4 80.2M    4 3344k    0     0   507k      0  0:02:41  0:00:06  0:02:35  668k\n",
      "  5 80.2M    5 4816k    0     0   627k      0  0:02:10  0:00:07  0:02:03  920k\n",
      "  7 80.2M    7 6352k    0     0   739k      0  0:01:51  0:00:08  0:01:43 1118k\n",
      " 10 80.2M   10 8608k    0     0   899k      0  0:01:31  0:00:09  0:01:22 1421k\n",
      " 12 80.2M   12  9.9M    0     0   960k      0  0:01:25  0:00:10  0:01:15 1571k\n",
      " 13 80.2M   13 11.1M    0     0   984k      0  0:01:23  0:00:11  0:01:12 1613k\n",
      " 15 80.2M   15 12.4M    0     0  1014k      0  0:01:21  0:00:12  0:01:09 1615k\n",
      " 17 80.2M   17 13.8M    0     0  1045k      0  0:01:18  0:00:13  0:01:05 1573k\n",
      " 18 80.2M   18 15.1M    0     0  1063k      0  0:01:17  0:00:14  0:01:03 1377k\n",
      " 19 80.2M   19 16.0M    0     0  1053k      0  0:01:17  0:00:15  0:01:02 1249k\n",
      " 20 80.2M   20 16.8M    0     0  1038k      0  0:01:19  0:00:16  0:01:03 1162k\n",
      " 21 80.2M   21 17.5M    0     0  1023k      0  0:01:20  0:00:17  0:01:03 1048k\n",
      " 22 80.2M   22 18.3M    0     0  1013k      0  0:01:21  0:00:18  0:01:03  928k\n",
      " 24 80.2M   24 19.3M    0     0  1014k      0  0:01:21  0:00:19  0:01:02  870k\n",
      " 25 80.2M   25 20.3M    0     0  1013k      0  0:01:21  0:00:20  0:01:01  887k\n",
      " 26 80.2M   26 21.2M    0     0  1010k      0  0:01:21  0:00:21  0:01:00  918k\n",
      " 27 80.2M   27 22.3M    0     0  1013k      0  0:01:21  0:00:22  0:00:59  976k\n",
      " 29 80.2M   29 23.3M    0     0  1011k      0  0:01:21  0:00:23  0:00:58 1003k\n",
      " 30 80.2M   30 24.3M    0     0  1014k      0  0:01:21  0:00:24  0:00:57 1013k\n",
      " 31 80.2M   31 25.5M    0     0  1019k      0  0:01:20  0:00:25  0:00:55 1045k\n",
      " 33 80.2M   33 26.6M    0     0  1025k      0  0:01:20  0:00:26  0:00:54 1091k\n",
      " 34 80.2M   34 27.5M    0     0  1024k      0  0:01:20  0:00:27  0:00:53 1075k\n",
      " 35 80.2M   35 28.3M    0     0  1016k      0  0:01:20  0:00:28  0:00:52 1038k\n",
      " 36 80.2M   36 29.1M    0     0  1007k      0  0:01:21  0:00:29  0:00:52  976k\n",
      " 37 80.2M   37 29.9M    0     0  1004k      0  0:01:21  0:00:30  0:00:51  925k\n",
      " 38 80.2M   38 30.7M    0     0   998k      0  0:01:22  0:00:31  0:00:51  849k\n",
      " 39 80.2M   39 31.6M    0     0   994k      0  0:01:22  0:00:32  0:00:50  827k\n",
      " 40 80.2M   40 32.5M    0     0   993k      0  0:01:22  0:00:33  0:00:49  858k\n",
      " 41 80.2M   41 33.2M    0     0   984k      0  0:01:23  0:00:34  0:00:49  847k\n",
      " 42 80.2M   42 34.0M    0     0   978k      0  0:01:23  0:00:35  0:00:48  819k\n",
      " 43 80.2M   43 34.7M    0     0   973k      0  0:01:24  0:00:36  0:00:48  819k\n",
      " 44 80.2M   44 35.5M    0     0   967k      0  0:01:24  0:00:37  0:00:47  790k\n",
      " 45 80.2M   45 36.2M    0     0   962k      0  0:01:25  0:00:38  0:00:47  753k\n",
      " 46 80.2M   46 37.0M    0     0   959k      0  0:01:25  0:00:39  0:00:46  786k\n",
      " 47 80.2M   47 37.8M    0     0   955k      0  0:01:26  0:00:40  0:00:46  790k\n",
      " 48 80.2M   48 38.7M    0     0   953k      0  0:01:26  0:00:41  0:00:45  805k\n",
      " 49 80.2M   49 39.6M    0     0   954k      0  0:01:26  0:00:42  0:00:44  855k\n",
      " 50 80.2M   50 40.6M    0     0   953k      0  0:01:26  0:00:43  0:00:43  890k\n",
      " 51 80.2M   51 41.6M    0     0   954k      0  0:01:26  0:00:44  0:00:42  912k\n",
      " 53 80.2M   53 42.6M    0     0   954k      0  0:01:26  0:00:45  0:00:41  951k\n",
      " 54 80.2M   54 43.4M    0     0   955k      0  0:01:25  0:00:46  0:00:39  975k\n",
      " 55 80.2M   55 44.3M    0     0   955k      0  0:01:25  0:00:47  0:00:38  966k\n",
      " 56 80.2M   56 45.2M    0     0   954k      0  0:01:26  0:00:48  0:00:38  964k\n",
      " 57 80.2M   57 46.1M    0     0   953k      0  0:01:26  0:00:49  0:00:37  943k\n",
      " 58 80.2M   58 47.0M    0     0   952k      0  0:01:26  0:00:50  0:00:36  931k\n",
      " 59 80.2M   59 47.9M    0     0   951k      0  0:01:26  0:00:51  0:00:35  907k\n",
      " 60 80.2M   60 48.8M    0     0   950k      0  0:01:26  0:00:52  0:00:34  907k\n",
      " 61 80.2M   61 49.7M    0     0   949k      0  0:01:26  0:00:53  0:00:33  899k\n",
      " 63 80.2M   63 50.6M    0     0   949k      0  0:01:26  0:00:54  0:00:32  909k\n",
      " 64 80.2M   64 51.5M    0     0   949k      0  0:01:26  0:00:55  0:00:31  922k\n",
      " 65 80.2M   65 52.3M    0     0   946k      0  0:01:26  0:00:56  0:00:30  903k\n",
      " 65 80.2M   65 52.9M    0     0   941k      0  0:01:27  0:00:57  0:00:30  837k\n",
      " 66 80.2M   66 53.5M    0     0   936k      0  0:01:27  0:00:58  0:00:29  791k\n",
      " 67 80.2M   67 54.0M    0     0   929k      0  0:01:28  0:00:59  0:00:29  715k\n",
      " 68 80.2M   68 54.6M    0     0   923k      0  0:01:28  0:01:00  0:00:28  624k\n",
      " 68 80.2M   68 55.1M    0     0   917k      0  0:01:29  0:01:01  0:00:28  583k\n",
      " 69 80.2M   69 55.7M    0     0   912k      0  0:01:30  0:01:02  0:00:28  587k\n",
      " 70 80.2M   70 56.3M    0     0   907k      0  0:01:30  0:01:03  0:00:27  573k\n",
      " 70 80.2M   70 56.9M    0     0   903k      0  0:01:30  0:01:04  0:00:26  585k\n",
      " 71 80.2M   71 57.5M    0     0   898k      0  0:01:31  0:01:05  0:00:26  605k\n",
      " 72 80.2M   72 58.2M    0     0   896k      0  0:01:31  0:01:06  0:00:25  634k\n",
      " 73 80.2M   73 59.0M    0     0   894k      0  0:01:31  0:01:07  0:00:24  670k\n",
      " 74 80.2M   74 59.9M    0     0   893k      0  0:01:31  0:01:08  0:00:23  712k\n",
      " 75 80.2M   75 60.7M    0     0   894k      0  0:01:31  0:01:09  0:00:22  780k\n",
      " 76 80.2M   76 61.7M    0     0   893k      0  0:01:31  0:01:10  0:00:21  824k\n",
      " 77 80.2M   77 62.2M    0     0   891k      0  0:01:32  0:01:11  0:00:21  825k\n",
      " 78 80.2M   78 63.0M    0     0   889k      0  0:01:32  0:01:12  0:00:20  819k\n",
      " 79 80.2M   79 63.7M    0     0   887k      0  0:01:32  0:01:13  0:00:19  803k\n",
      " 80 80.2M   80 64.5M    0     0   885k      0  0:01:32  0:01:14  0:00:18  768k\n",
      " 81 80.2M   81 65.1M    0     0   882k      0  0:01:33  0:01:15  0:00:18  722k\n",
      " 82 80.2M   82 65.8M    0     0   880k      0  0:01:33  0:01:16  0:00:17  720k\n",
      " 82 80.2M   82 66.5M    0     0   878k      0  0:01:33  0:01:17  0:00:16  718k\n",
      " 83 80.2M   83 67.3M    0     0   877k      0  0:01:33  0:01:18  0:00:15  739k\n",
      " 84 80.2M   84 68.1M    0     0   877k      0  0:01:33  0:01:19  0:00:14  751k\n",
      " 86 80.2M   86 69.0M    0     0   876k      0  0:01:33  0:01:20  0:00:13  784k\n",
      " 86 80.2M   86 69.5M    0     0   872k      0  0:01:34  0:01:21  0:00:13  756k\n",
      " 87 80.2M   87 70.1M    0     0   869k      0  0:01:34  0:01:22  0:00:12  732k\n",
      " 88 80.2M   88 70.6M    0     0   866k      0  0:01:34  0:01:23  0:00:11  682k\n",
      " 88 80.2M   88 71.2M    0     0   862k      0  0:01:35  0:01:24  0:00:11  626k\n",
      " 89 80.2M   89 71.8M    0     0   859k      0  0:01:35  0:01:25  0:00:10  582k\n",
      " 90 80.2M   90 72.3M    0     0   855k      0  0:01:35  0:01:26  0:00:09  582k\n",
      " 90 80.2M   90 72.8M    0     0   852k      0  0:01:36  0:01:27  0:00:09  560k\n",
      " 91 80.2M   91 73.5M    0     0   849k      0  0:01:36  0:01:28  0:00:08  578k\n",
      " 92 80.2M   92 74.0M    0     0   846k      0  0:01:37  0:01:29  0:00:08  579k\n",
      " 93 80.2M   93 74.9M    0     0   847k      0  0:01:36  0:01:30  0:00:06  640k\n",
      " 95 80.2M   95 76.2M    0     0   852k      0  0:01:36  0:01:31  0:00:05  796k\n",
      " 96 80.2M   96 77.8M    0     0   860k      0  0:01:35  0:01:32  0:00:03 1010k\n",
      " 99 80.2M   99 79.8M    0     0   873k      0  0:01:34  0:01:33  0:00:01 1290k\n",
      "100 80.2M  100 80.2M    0     0   876k      0  0:01:33  0:01:33 --:--:-- 1506k\n"
     ]
    }
   ],
   "source": [
    "!curl -O https://ai.stanford.edu/~amaas/data/sentiment/aclImdb_v1.tar.gz\n",
    "!tar -xf aclImdb_v1.tar.gz"
   ]
  },
  {
   "cell_type": "code",
   "execution_count": 11,
   "metadata": {
    "colab_type": "code"
   },
   "outputs": [
    {
     "name": "stderr",
     "output_type": "stream",
     "text": [
      "'rm' is not recognized as an internal or external command,\n",
      "operable program or batch file.\n"
     ]
    }
   ],
   "source": [
    "!rm -r aclImdb/train/unsup"
   ]
  },
  {
   "cell_type": "code",
   "execution_count": 12,
   "metadata": {
    "colab_type": "code"
   },
   "outputs": [
    {
     "name": "stderr",
     "output_type": "stream",
     "text": [
      "'cat' is not recognized as an internal or external command,\n",
      "operable program or batch file.\n"
     ]
    }
   ],
   "source": [
    "!cat aclImdb/train/pos/4077_10.txt"
   ]
  },
  {
   "cell_type": "code",
   "execution_count": 13,
   "metadata": {
    "colab_type": "code"
   },
   "outputs": [],
   "source": [
    "import os, pathlib, shutil, random\n",
    "\n",
    "base_dir = pathlib.Path(\"aclImdb\")\n",
    "val_dir = base_dir / \"val\"\n",
    "train_dir = base_dir / \"train\"\n",
    "for category in (\"neg\", \"pos\"):\n",
    "    os.makedirs(val_dir / category)\n",
    "    files = os.listdir(train_dir / category)\n",
    "    random.Random(1337).shuffle(files)\n",
    "    num_val_samples = int(0.2 * len(files))\n",
    "    val_files = files[-num_val_samples:]\n",
    "    for fname in val_files:\n",
    "        shutil.move(train_dir / category / fname,\n",
    "                    val_dir / category / fname)"
   ]
  },
  {
   "cell_type": "code",
   "execution_count": 14,
   "metadata": {
    "colab_type": "code"
   },
   "outputs": [
    {
     "name": "stdout",
     "output_type": "stream",
     "text": [
      "Found 70000 files belonging to 3 classes.\n",
      "Found 5000 files belonging to 2 classes.\n",
      "Found 25000 files belonging to 2 classes.\n"
     ]
    }
   ],
   "source": [
    "from tensorflow import keras\n",
    "batch_size = 32\n",
    "\n",
    "train_ds = keras.utils.text_dataset_from_directory(\n",
    "    \"aclImdb/train\", batch_size=batch_size\n",
    ")\n",
    "val_ds = keras.utils.text_dataset_from_directory(\n",
    "    \"aclImdb/val\", batch_size=batch_size\n",
    ")\n",
    "test_ds = keras.utils.text_dataset_from_directory(\n",
    "    \"aclImdb/test\", batch_size=batch_size\n",
    ")"
   ]
  },
  {
   "cell_type": "markdown",
   "metadata": {
    "colab_type": "text"
   },
   "source": [
    "**Displaying the shapes and dtypes of the first batch**"
   ]
  },
  {
   "cell_type": "code",
   "execution_count": 15,
   "metadata": {
    "colab_type": "code"
   },
   "outputs": [
    {
     "name": "stdout",
     "output_type": "stream",
     "text": [
      "inputs.shape: (32,)\n",
      "inputs.dtype: <dtype: 'string'>\n",
      "targets.shape: (32,)\n",
      "targets.dtype: <dtype: 'int32'>\n",
      "inputs[0]: tf.Tensor(b'This is one of the worst things to ever come out of England, so that says a lot right there. The tension when we have to find out whether or not Lembach is staying is amazing though. The upside is seeing the nice secretary, Sheila, in her picnic table print underwear for awhile after being captured by Dr. Rat Face. This movie has several views of London too although none of them are good. There is also a point in which there is almost a car accident which gets your heart rate back to just below normal. There is also a watch that gets teleported away, and the fear of the woman not getting her watch back is parallel to the horror of \"The Sixth Sense\" only a lot more dull and British. Add on a furious gun fight between the British police and the Dr. Rat, which results in nothing, plus the electrocuting of a lot of people, plus a cat and you have yourself... ummm... A British movie. The MST3K version is pretty good although not one of there bests.', shape=(), dtype=string)\n",
      "targets[0]: tf.Tensor(0, shape=(), dtype=int32)\n"
     ]
    }
   ],
   "source": [
    "for inputs, targets in train_ds:\n",
    "    print(\"inputs.shape:\", inputs.shape)\n",
    "    print(\"inputs.dtype:\", inputs.dtype)\n",
    "    print(\"targets.shape:\", targets.shape)\n",
    "    print(\"targets.dtype:\", targets.dtype)\n",
    "    print(\"inputs[0]:\", inputs[0])\n",
    "    print(\"targets[0]:\", targets[0])\n",
    "    break"
   ]
  },
  {
   "cell_type": "markdown",
   "metadata": {
    "colab_type": "text"
   },
   "source": [
    "### Processing words as a set: The bag-of-words approach"
   ]
  },
  {
   "cell_type": "markdown",
   "metadata": {
    "colab_type": "text"
   },
   "source": [
    "#### Single words (unigrams) with binary encoding"
   ]
  },
  {
   "cell_type": "markdown",
   "metadata": {
    "colab_type": "text"
   },
   "source": [
    "**Preprocessing our datasets with a `TextVectorization` layer**"
   ]
  },
  {
   "cell_type": "code",
   "execution_count": 16,
   "metadata": {
    "colab_type": "code"
   },
   "outputs": [],
   "source": [
    "text_vectorization = TextVectorization(\n",
    "    max_tokens=20000,\n",
    "    output_mode=\"multi_hot\",\n",
    ")\n",
    "text_only_train_ds = train_ds.map(lambda x, y: x)\n",
    "text_vectorization.adapt(text_only_train_ds)\n",
    "\n",
    "binary_1gram_train_ds = train_ds.map(\n",
    "    lambda x, y: (text_vectorization(x), y),\n",
    "    num_parallel_calls=4)\n",
    "binary_1gram_val_ds = val_ds.map(\n",
    "    lambda x, y: (text_vectorization(x), y),\n",
    "    num_parallel_calls=4)\n",
    "binary_1gram_test_ds = test_ds.map(\n",
    "    lambda x, y: (text_vectorization(x), y),\n",
    "    num_parallel_calls=4)"
   ]
  },
  {
   "cell_type": "markdown",
   "metadata": {
    "colab_type": "text"
   },
   "source": [
    "**Inspecting the output of our binary unigram dataset**"
   ]
  },
  {
   "cell_type": "code",
   "execution_count": 17,
   "metadata": {
    "colab_type": "code"
   },
   "outputs": [
    {
     "name": "stdout",
     "output_type": "stream",
     "text": [
      "inputs.shape: (32, 20000)\n",
      "inputs.dtype: <dtype: 'float32'>\n",
      "targets.shape: (32,)\n",
      "targets.dtype: <dtype: 'int32'>\n",
      "inputs[0]: tf.Tensor([1. 1. 1. ... 0. 0. 0.], shape=(20000,), dtype=float32)\n",
      "targets[0]: tf.Tensor(2, shape=(), dtype=int32)\n"
     ]
    }
   ],
   "source": [
    "for inputs, targets in binary_1gram_train_ds:\n",
    "    print(\"inputs.shape:\", inputs.shape)\n",
    "    print(\"inputs.dtype:\", inputs.dtype)\n",
    "    print(\"targets.shape:\", targets.shape)\n",
    "    print(\"targets.dtype:\", targets.dtype)\n",
    "    print(\"inputs[0]:\", inputs[0])\n",
    "    print(\"targets[0]:\", targets[0])\n",
    "    break"
   ]
  },
  {
   "cell_type": "markdown",
   "metadata": {
    "colab_type": "text"
   },
   "source": [
    "**Our model-building utility**"
   ]
  },
  {
   "cell_type": "code",
   "execution_count": 18,
   "metadata": {
    "colab_type": "code"
   },
   "outputs": [],
   "source": [
    "from tensorflow import keras\n",
    "from tensorflow.keras import layers\n",
    "\n",
    "def get_model(max_tokens=20000, hidden_dim=16):\n",
    "    inputs = keras.Input(shape=(max_tokens,))\n",
    "    x = layers.Dense(hidden_dim, activation=\"relu\")(inputs)\n",
    "    x = layers.Dropout(0.5)(x)\n",
    "    outputs = layers.Dense(1, activation=\"sigmoid\")(x)\n",
    "    model = keras.Model(inputs, outputs)\n",
    "    model.compile(optimizer=\"rmsprop\",\n",
    "                  loss=\"binary_crossentropy\",\n",
    "                  metrics=[\"accuracy\"])\n",
    "    return model"
   ]
  },
  {
   "cell_type": "markdown",
   "metadata": {
    "colab_type": "text"
   },
   "source": [
    "**Training and testing the binary unigram model**"
   ]
  },
  {
   "cell_type": "code",
   "execution_count": 19,
   "metadata": {
    "colab_type": "code"
   },
   "outputs": [
    {
     "name": "stdout",
     "output_type": "stream",
     "text": [
      "Model: \"model\"\n",
      "_________________________________________________________________\n",
      " Layer (type)                Output Shape              Param #   \n",
      "=================================================================\n",
      " input_1 (InputLayer)        [(None, 20000)]           0         \n",
      "                                                                 \n",
      " dense (Dense)               (None, 16)                320016    \n",
      "                                                                 \n",
      " dropout (Dropout)           (None, 16)                0         \n",
      "                                                                 \n",
      " dense_1 (Dense)             (None, 1)                 17        \n",
      "                                                                 \n",
      "=================================================================\n",
      "Total params: 320,033\n",
      "Trainable params: 320,033\n",
      "Non-trainable params: 0\n",
      "_________________________________________________________________\n",
      "Epoch 1/10\n",
      "2188/2188 [==============================] - 19s 7ms/step - loss: -584.4676 - accuracy: 0.1429 - val_loss: 1448.9518 - val_accuracy: 0.5000\n",
      "Epoch 2/10\n",
      "2188/2188 [==============================] - 7s 3ms/step - loss: -3595.4995 - accuracy: 0.1429 - val_loss: 5347.9556 - val_accuracy: 0.5000\n",
      "Epoch 3/10\n",
      "2188/2188 [==============================] - 8s 4ms/step - loss: -9397.5273 - accuracy: 0.1429 - val_loss: 11694.3574 - val_accuracy: 0.5000\n",
      "Epoch 4/10\n",
      "2188/2188 [==============================] - 7s 3ms/step - loss: -18052.9355 - accuracy: 0.1429 - val_loss: 20503.6035 - val_accuracy: 0.5000\n",
      "Epoch 5/10\n",
      "2188/2188 [==============================] - 8s 4ms/step - loss: -29311.3828 - accuracy: 0.1429 - val_loss: 31741.6152 - val_accuracy: 0.5000\n",
      "Epoch 6/10\n",
      "2188/2188 [==============================] - 8s 4ms/step - loss: -43356.7500 - accuracy: 0.1429 - val_loss: 45416.1094 - val_accuracy: 0.5000\n",
      "Epoch 7/10\n",
      "2188/2188 [==============================] - 8s 4ms/step - loss: -60314.7070 - accuracy: 0.1429 - val_loss: 61542.0859 - val_accuracy: 0.5000\n",
      "Epoch 8/10\n",
      "2188/2188 [==============================] - 7s 3ms/step - loss: -79717.2734 - accuracy: 0.1429 - val_loss: 80098.1797 - val_accuracy: 0.5000\n",
      "Epoch 9/10\n",
      "2188/2188 [==============================] - 7s 3ms/step - loss: -102579.5547 - accuracy: 0.1429 - val_loss: 101117.6562 - val_accuracy: 0.5000\n",
      "Epoch 10/10\n",
      "2188/2188 [==============================] - 7s 3ms/step - loss: -127635.4844 - accuracy: 0.1429 - val_loss: 124556.0312 - val_accuracy: 0.5000\n",
      "782/782 [==============================] - 16s 20ms/step - loss: 1440.6289 - accuracy: 0.5000\n",
      "Test acc: 0.500\n"
     ]
    }
   ],
   "source": [
    "model = get_model()\n",
    "model.summary()\n",
    "callbacks = [\n",
    "    keras.callbacks.ModelCheckpoint(\"binary_1gram.keras\",\n",
    "                                    save_best_only=True)\n",
    "]\n",
    "model.fit(binary_1gram_train_ds.cache(),\n",
    "          validation_data=binary_1gram_val_ds.cache(),\n",
    "          epochs=10,\n",
    "          callbacks=callbacks)\n",
    "model = keras.models.load_model(\"binary_1gram.keras\")\n",
    "print(f\"Test acc: {model.evaluate(binary_1gram_test_ds)[1]:.3f}\")"
   ]
  },
  {
   "cell_type": "markdown",
   "metadata": {
    "colab_type": "text"
   },
   "source": [
    "#### Bigrams with binary encoding"
   ]
  },
  {
   "cell_type": "markdown",
   "metadata": {
    "colab_type": "text"
   },
   "source": [
    "**Configuring the `TextVectorization` layer to return bigrams**"
   ]
  },
  {
   "cell_type": "code",
   "execution_count": 20,
   "metadata": {
    "colab_type": "code"
   },
   "outputs": [],
   "source": [
    "text_vectorization = TextVectorization(\n",
    "    ngrams=2,\n",
    "    max_tokens=20000,\n",
    "    output_mode=\"multi_hot\",\n",
    ")"
   ]
  },
  {
   "cell_type": "markdown",
   "metadata": {
    "colab_type": "text"
   },
   "source": [
    "**Training and testing the binary bigram model**"
   ]
  },
  {
   "cell_type": "code",
   "execution_count": 21,
   "metadata": {
    "colab_type": "code"
   },
   "outputs": [
    {
     "name": "stdout",
     "output_type": "stream",
     "text": [
      "Model: \"model_1\"\n",
      "_________________________________________________________________\n",
      " Layer (type)                Output Shape              Param #   \n",
      "=================================================================\n",
      " input_2 (InputLayer)        [(None, 20000)]           0         \n",
      "                                                                 \n",
      " dense_2 (Dense)             (None, 16)                320016    \n",
      "                                                                 \n",
      " dropout_1 (Dropout)         (None, 16)                0         \n",
      "                                                                 \n",
      " dense_3 (Dense)             (None, 1)                 17        \n",
      "                                                                 \n",
      "=================================================================\n",
      "Total params: 320,033\n",
      "Trainable params: 320,033\n",
      "Non-trainable params: 0\n",
      "_________________________________________________________________\n",
      "Epoch 1/10\n",
      "2188/2188 [==============================] - 14s 6ms/step - loss: -715.6212 - accuracy: 0.1429 - val_loss: 1771.0590 - val_accuracy: 0.5000\n",
      "Epoch 2/10\n",
      "2188/2188 [==============================] - 8s 4ms/step - loss: -4452.0068 - accuracy: 0.1429 - val_loss: 6584.9834 - val_accuracy: 0.5000\n",
      "Epoch 3/10\n",
      "2188/2188 [==============================] - 7s 3ms/step - loss: -11561.2539 - accuracy: 0.1429 - val_loss: 14415.3779 - val_accuracy: 0.5000\n",
      "Epoch 4/10\n",
      "2188/2188 [==============================] - 8s 3ms/step - loss: -22254.1504 - accuracy: 0.1429 - val_loss: 25286.7109 - val_accuracy: 0.5000\n",
      "Epoch 5/10\n",
      "2188/2188 [==============================] - 8s 3ms/step - loss: -36381.6562 - accuracy: 0.1429 - val_loss: 39206.9297 - val_accuracy: 0.5000\n",
      "Epoch 6/10\n",
      "2188/2188 [==============================] - 8s 4ms/step - loss: -53605.4414 - accuracy: 0.1429 - val_loss: 56136.8242 - val_accuracy: 0.5000\n",
      "Epoch 7/10\n",
      "2188/2188 [==============================] - 8s 3ms/step - loss: -75052.4844 - accuracy: 0.1429 - val_loss: 76129.0703 - val_accuracy: 0.5000\n",
      "Epoch 8/10\n",
      "2188/2188 [==============================] - 8s 3ms/step - loss: -99373.6250 - accuracy: 0.1429 - val_loss: 99131.5469 - val_accuracy: 0.5000\n",
      "Epoch 9/10\n",
      "2188/2188 [==============================] - 8s 3ms/step - loss: -126622.6797 - accuracy: 0.1429 - val_loss: 125094.1562 - val_accuracy: 0.5000\n",
      "Epoch 10/10\n",
      "2188/2188 [==============================] - 8s 3ms/step - loss: -158252.6094 - accuracy: 0.1429 - val_loss: 154132.9219 - val_accuracy: 0.5000\n",
      "782/782 [==============================] - 4s 5ms/step - loss: 1759.6741 - accuracy: 0.5000\n",
      "Test acc: 0.500\n"
     ]
    }
   ],
   "source": [
    "text_vectorization.adapt(text_only_train_ds)\n",
    "binary_2gram_train_ds = train_ds.map(\n",
    "    lambda x, y: (text_vectorization(x), y),\n",
    "    num_parallel_calls=4)\n",
    "binary_2gram_val_ds = val_ds.map(\n",
    "    lambda x, y: (text_vectorization(x), y),\n",
    "    num_parallel_calls=4)\n",
    "binary_2gram_test_ds = test_ds.map(\n",
    "    lambda x, y: (text_vectorization(x), y),\n",
    "    num_parallel_calls=4)\n",
    "\n",
    "model = get_model()\n",
    "model.summary()\n",
    "callbacks = [\n",
    "    keras.callbacks.ModelCheckpoint(\"binary_2gram.keras\",\n",
    "                                    save_best_only=True)\n",
    "]\n",
    "model.fit(binary_2gram_train_ds.cache(),\n",
    "          validation_data=binary_2gram_val_ds.cache(),\n",
    "          epochs=10,\n",
    "          callbacks=callbacks)\n",
    "model = keras.models.load_model(\"binary_2gram.keras\")\n",
    "print(f\"Test acc: {model.evaluate(binary_2gram_test_ds)[1]:.3f}\")"
   ]
  },
  {
   "cell_type": "markdown",
   "metadata": {
    "colab_type": "text"
   },
   "source": [
    "#### Bigrams with TF-IDF encoding"
   ]
  },
  {
   "cell_type": "markdown",
   "metadata": {
    "colab_type": "text"
   },
   "source": [
    "**Configuring the `TextVectorization` layer to return token counts**"
   ]
  },
  {
   "cell_type": "code",
   "execution_count": 22,
   "metadata": {
    "colab_type": "code"
   },
   "outputs": [],
   "source": [
    "text_vectorization = TextVectorization(\n",
    "    ngrams=2,\n",
    "    max_tokens=20000,\n",
    "    output_mode=\"count\"\n",
    ")"
   ]
  },
  {
   "cell_type": "markdown",
   "metadata": {
    "colab_type": "text"
   },
   "source": [
    "**Configuring `TextVectorization` to return TF-IDF-weighted outputs**"
   ]
  },
  {
   "cell_type": "code",
   "execution_count": 23,
   "metadata": {
    "colab_type": "code"
   },
   "outputs": [],
   "source": [
    "text_vectorization = TextVectorization(\n",
    "    ngrams=2,\n",
    "    max_tokens=20000,\n",
    "    output_mode=\"tf_idf\",\n",
    ")"
   ]
  },
  {
   "cell_type": "markdown",
   "metadata": {
    "colab_type": "text"
   },
   "source": [
    "**Training and testing the TF-IDF bigram model**"
   ]
  },
  {
   "cell_type": "code",
   "execution_count": 24,
   "metadata": {
    "colab_type": "code"
   },
   "outputs": [
    {
     "name": "stdout",
     "output_type": "stream",
     "text": [
      "Model: \"model_2\"\n",
      "_________________________________________________________________\n",
      " Layer (type)                Output Shape              Param #   \n",
      "=================================================================\n",
      " input_3 (InputLayer)        [(None, 20000)]           0         \n",
      "                                                                 \n",
      " dense_4 (Dense)             (None, 16)                320016    \n",
      "                                                                 \n",
      " dropout_2 (Dropout)         (None, 16)                0         \n",
      "                                                                 \n",
      " dense_5 (Dense)             (None, 1)                 17        \n",
      "                                                                 \n",
      "=================================================================\n",
      "Total params: 320,033\n",
      "Trainable params: 320,033\n",
      "Non-trainable params: 0\n",
      "_________________________________________________________________\n",
      "Epoch 1/10\n",
      "2188/2188 [==============================] - 14s 6ms/step - loss: -6424.3159 - accuracy: 0.1428 - val_loss: 15815.0352 - val_accuracy: 0.5000\n",
      "Epoch 2/10\n",
      "2188/2188 [==============================] - 8s 4ms/step - loss: -42301.6797 - accuracy: 0.1429 - val_loss: 61196.0430 - val_accuracy: 0.5000\n",
      "Epoch 3/10\n",
      "2188/2188 [==============================] - 8s 3ms/step - loss: -113091.9609 - accuracy: 0.1429 - val_loss: 136043.5781 - val_accuracy: 0.5000\n",
      "Epoch 4/10\n",
      "2188/2188 [==============================] - 8s 3ms/step - loss: -218075.8594 - accuracy: 0.1429 - val_loss: 240446.9062 - val_accuracy: 0.5000\n",
      "Epoch 5/10\n",
      "2188/2188 [==============================] - 8s 3ms/step - loss: -358896.0938 - accuracy: 0.1429 - val_loss: 374467.4688 - val_accuracy: 0.5000\n",
      "Epoch 6/10\n",
      "2188/2188 [==============================] - 8s 4ms/step - loss: -530217.7500 - accuracy: 0.1429 - val_loss: 537722.1875 - val_accuracy: 0.5000\n",
      "Epoch 7/10\n",
      "2188/2188 [==============================] - 8s 4ms/step - loss: -746955.6250 - accuracy: 0.1429 - val_loss: 730691.6250 - val_accuracy: 0.5000\n",
      "Epoch 8/10\n",
      "2188/2188 [==============================] - 8s 4ms/step - loss: -988622.1250 - accuracy: 0.1429 - val_loss: 953095.5625 - val_accuracy: 0.5000\n",
      "Epoch 9/10\n",
      "2188/2188 [==============================] - 8s 4ms/step - loss: -1263809.5000 - accuracy: 0.1429 - val_loss: 1204676.8750 - val_accuracy: 0.5000\n",
      "Epoch 10/10\n",
      "2188/2188 [==============================] - 8s 3ms/step - loss: -1582429.2500 - accuracy: 0.1429 - val_loss: 1485250.6250 - val_accuracy: 0.5000\n",
      "782/782 [==============================] - 4s 5ms/step - loss: 15475.2461 - accuracy: 0.5000\n",
      "Test acc: 0.500\n"
     ]
    }
   ],
   "source": [
    "text_vectorization.adapt(text_only_train_ds)\n",
    "\n",
    "tfidf_2gram_train_ds = train_ds.map(\n",
    "    lambda x, y: (text_vectorization(x), y),\n",
    "    num_parallel_calls=4)\n",
    "tfidf_2gram_val_ds = val_ds.map(\n",
    "    lambda x, y: (text_vectorization(x), y),\n",
    "    num_parallel_calls=4)\n",
    "tfidf_2gram_test_ds = test_ds.map(\n",
    "    lambda x, y: (text_vectorization(x), y),\n",
    "    num_parallel_calls=4)\n",
    "\n",
    "model = get_model()\n",
    "model.summary()\n",
    "callbacks = [\n",
    "    keras.callbacks.ModelCheckpoint(\"tfidf_2gram.keras\",\n",
    "                                    save_best_only=True)\n",
    "]\n",
    "model.fit(tfidf_2gram_train_ds.cache(),\n",
    "          validation_data=tfidf_2gram_val_ds.cache(),\n",
    "          epochs=10,\n",
    "          callbacks=callbacks)\n",
    "model = keras.models.load_model(\"tfidf_2gram.keras\")\n",
    "print(f\"Test acc: {model.evaluate(tfidf_2gram_test_ds)[1]:.3f}\")"
   ]
  },
  {
   "cell_type": "code",
   "execution_count": 25,
   "metadata": {
    "colab_type": "code"
   },
   "outputs": [],
   "source": [
    "inputs = keras.Input(shape=(1,), dtype=\"string\")\n",
    "processed_inputs = text_vectorization(inputs)\n",
    "outputs = model(processed_inputs)\n",
    "inference_model = keras.Model(inputs, outputs)"
   ]
  },
  {
   "cell_type": "code",
   "execution_count": 26,
   "metadata": {
    "colab_type": "code"
   },
   "outputs": [
    {
     "name": "stdout",
     "output_type": "stream",
     "text": [
      "100.00 percent positive\n"
     ]
    }
   ],
   "source": [
    "import tensorflow as tf\n",
    "raw_text_data = tf.convert_to_tensor([\n",
    "    [\"That was an excellent movie, I loved it.\"],\n",
    "])\n",
    "predictions = inference_model(raw_text_data)\n",
    "print(f\"{float(predictions[0] * 100):.2f} percent positive\")"
   ]
  }
 ],
 "metadata": {
  "colab": {
   "collapsed_sections": [],
   "name": "chapter11_part01_introduction.i",
   "private_outputs": false,
   "provenance": [],
   "toc_visible": true
  },
  "kernelspec": {
   "display_name": "Python 3.9.12 ('finbert')",
   "language": "python",
   "name": "python3"
  },
  "language_info": {
   "codemirror_mode": {
    "name": "ipython",
    "version": 3
   },
   "file_extension": ".py",
   "mimetype": "text/x-python",
   "name": "python",
   "nbconvert_exporter": "python",
   "pygments_lexer": "ipython3",
   "version": "3.9.12"
  },
  "vscode": {
   "interpreter": {
    "hash": "dc2d75d2bbb1ab8d2c49183bedcbafe25b599ed2fa73b8834cc66076892a6e29"
   }
  }
 },
 "nbformat": 4,
 "nbformat_minor": 0
}
