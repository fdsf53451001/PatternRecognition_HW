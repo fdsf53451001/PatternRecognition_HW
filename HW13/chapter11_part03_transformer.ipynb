{
 "cells": [
  {
   "attachments": {},
   "cell_type": "markdown",
   "metadata": {},
   "source": [
    "### HW13 B0829024 葉季儒"
   ]
  },
  {
   "cell_type": "markdown",
   "metadata": {
    "colab_type": "text"
   },
   "source": [
    "## The Transformer architecture"
   ]
  },
  {
   "cell_type": "markdown",
   "metadata": {
    "colab_type": "text"
   },
   "source": [
    "### Understanding self-attention"
   ]
  },
  {
   "cell_type": "markdown",
   "metadata": {
    "colab_type": "text"
   },
   "source": [
    "#### Generalized self-attention: the query-key-value model"
   ]
  },
  {
   "cell_type": "markdown",
   "metadata": {
    "colab_type": "text"
   },
   "source": [
    "### Multi-head attention"
   ]
  },
  {
   "cell_type": "markdown",
   "metadata": {
    "colab_type": "text"
   },
   "source": [
    "### The Transformer encoder"
   ]
  },
  {
   "cell_type": "markdown",
   "metadata": {
    "colab_type": "text"
   },
   "source": [
    "**Getting the data**"
   ]
  },
  {
   "cell_type": "code",
   "execution_count": 11,
   "metadata": {
    "colab_type": "code"
   },
   "outputs": [],
   "source": [
    "# !curl -O https://ai.stanford.edu/~amaas/data/sentiment/aclImdb_v1.tar.gz\n",
    "# !tar -xf aclImdb_v1.tar.gz\n",
    "# !rm -r aclImdb/train/unsup"
   ]
  },
  {
   "cell_type": "markdown",
   "metadata": {
    "colab_type": "text"
   },
   "source": [
    "**Preparing the data**"
   ]
  },
  {
   "cell_type": "code",
   "execution_count": 12,
   "metadata": {
    "colab_type": "code"
   },
   "outputs": [
    {
     "name": "stdout",
     "output_type": "stream",
     "text": [
      "Found 51297 files belonging to 3 classes.\n",
      "Found 23703 files belonging to 2 classes.\n",
      "Found 25000 files belonging to 2 classes.\n"
     ]
    }
   ],
   "source": [
    "import os, pathlib, shutil, random\n",
    "from tensorflow import keras\n",
    "batch_size = 32\n",
    "base_dir = pathlib.Path(\"E://Code//Github//PatternRecognition_HW//HW12//aclImdb\")\n",
    "val_dir = base_dir / \"val\"\n",
    "train_dir = base_dir / \"train\"\n",
    "for category in (\"neg\", \"pos\"):\n",
    "    os.makedirs(val_dir / category, exist_ok=True)\n",
    "    files = os.listdir(train_dir / category)\n",
    "    random.Random(1337).shuffle(files)\n",
    "    num_val_samples = int(0.2 * len(files))\n",
    "    val_files = files[-num_val_samples:]\n",
    "    for fname in val_files:\n",
    "        shutil.move(train_dir / category / fname,\n",
    "                    val_dir / category / fname)\n",
    "\n",
    "train_ds = keras.utils.text_dataset_from_directory(\n",
    "    os.path.join(base_dir,\"train\"), batch_size=batch_size\n",
    ")\n",
    "val_ds = keras.utils.text_dataset_from_directory(\n",
    "    os.path.join(base_dir,\"val\"), batch_size=batch_size\n",
    ")\n",
    "test_ds = keras.utils.text_dataset_from_directory(\n",
    "    os.path.join(base_dir,\"test\"), batch_size=batch_size\n",
    ")\n",
    "text_only_train_ds = train_ds.map(lambda x, y: x)"
   ]
  },
  {
   "cell_type": "markdown",
   "metadata": {
    "colab_type": "text"
   },
   "source": [
    "**Vectorizing the data**"
   ]
  },
  {
   "cell_type": "code",
   "execution_count": 13,
   "metadata": {
    "colab_type": "code"
   },
   "outputs": [],
   "source": [
    "from tensorflow.keras import layers\n",
    "\n",
    "max_length = 600\n",
    "max_tokens = 20000\n",
    "text_vectorization = layers.TextVectorization(\n",
    "    max_tokens=max_tokens,\n",
    "    output_mode=\"int\",\n",
    "    output_sequence_length=max_length,\n",
    ")\n",
    "text_vectorization.adapt(text_only_train_ds)\n",
    "\n",
    "int_train_ds = train_ds.map(\n",
    "    lambda x, y: (text_vectorization(x), y),\n",
    "    num_parallel_calls=4)\n",
    "int_val_ds = val_ds.map(\n",
    "    lambda x, y: (text_vectorization(x), y),\n",
    "    num_parallel_calls=4)\n",
    "int_test_ds = test_ds.map(\n",
    "    lambda x, y: (text_vectorization(x), y),\n",
    "    num_parallel_calls=4)"
   ]
  },
  {
   "cell_type": "markdown",
   "metadata": {
    "colab_type": "text"
   },
   "source": [
    "**Transformer encoder implemented as a subclassed `Layer`**"
   ]
  },
  {
   "cell_type": "code",
   "execution_count": 14,
   "metadata": {
    "colab_type": "code"
   },
   "outputs": [],
   "source": [
    "import tensorflow as tf\n",
    "from tensorflow import keras\n",
    "from tensorflow.keras import layers\n",
    "\n",
    "class TransformerEncoder(layers.Layer):\n",
    "    def __init__(self, embed_dim, dense_dim, num_heads, **kwargs):\n",
    "        super().__init__(**kwargs)\n",
    "        self.embed_dim = embed_dim\n",
    "        self.dense_dim = dense_dim\n",
    "        self.num_heads = num_heads\n",
    "        self.attention = layers.MultiHeadAttention(\n",
    "            num_heads=num_heads, key_dim=embed_dim)\n",
    "        self.dense_proj = keras.Sequential(\n",
    "            [layers.Dense(dense_dim, activation=\"relu\"),\n",
    "             layers.Dense(embed_dim),]\n",
    "        )\n",
    "        self.layernorm_1 = layers.LayerNormalization()\n",
    "        self.layernorm_2 = layers.LayerNormalization()\n",
    "\n",
    "    def call(self, inputs, mask=None):\n",
    "        if mask is not None:\n",
    "            mask = mask[:, tf.newaxis, :]\n",
    "        attention_output = self.attention(\n",
    "            inputs, inputs, attention_mask=mask)\n",
    "        proj_input = self.layernorm_1(inputs + attention_output)\n",
    "        proj_output = self.dense_proj(proj_input)\n",
    "        return self.layernorm_2(proj_input + proj_output)\n",
    "\n",
    "    def get_config(self):\n",
    "        config = super().get_config()\n",
    "        config.update({\n",
    "            \"embed_dim\": self.embed_dim,\n",
    "            \"num_heads\": self.num_heads,\n",
    "            \"dense_dim\": self.dense_dim,\n",
    "        })\n",
    "        return config"
   ]
  },
  {
   "cell_type": "markdown",
   "metadata": {
    "colab_type": "text"
   },
   "source": [
    "**Using the Transformer encoder for text classification**"
   ]
  },
  {
   "cell_type": "code",
   "execution_count": 15,
   "metadata": {
    "colab_type": "code"
   },
   "outputs": [
    {
     "name": "stdout",
     "output_type": "stream",
     "text": [
      "Model: \"model\"\n",
      "_________________________________________________________________\n",
      " Layer (type)                Output Shape              Param #   \n",
      "=================================================================\n",
      " input_1 (InputLayer)        [(None, None)]            0         \n",
      "                                                                 \n",
      " embedding (Embedding)       (None, None, 256)         5120000   \n",
      "                                                                 \n",
      " transformer_encoder (Transf  (None, None, 256)        543776    \n",
      " ormerEncoder)                                                   \n",
      "                                                                 \n",
      " global_max_pooling1d (Globa  (None, 256)              0         \n",
      " lMaxPooling1D)                                                  \n",
      "                                                                 \n",
      " dropout (Dropout)           (None, 256)               0         \n",
      "                                                                 \n",
      " dense_2 (Dense)             (None, 1)                 257       \n",
      "                                                                 \n",
      "=================================================================\n",
      "Total params: 5,664,033\n",
      "Trainable params: 5,664,033\n",
      "Non-trainable params: 0\n",
      "_________________________________________________________________\n"
     ]
    }
   ],
   "source": [
    "vocab_size = 20000\n",
    "embed_dim = 256\n",
    "num_heads = 2\n",
    "dense_dim = 32\n",
    "\n",
    "inputs = keras.Input(shape=(None,), dtype=\"int64\")\n",
    "x = layers.Embedding(vocab_size, embed_dim)(inputs)\n",
    "x = TransformerEncoder(embed_dim, dense_dim, num_heads)(x)\n",
    "x = layers.GlobalMaxPooling1D()(x)\n",
    "x = layers.Dropout(0.5)(x)\n",
    "outputs = layers.Dense(1, activation=\"sigmoid\")(x)\n",
    "model = keras.Model(inputs, outputs)\n",
    "model.compile(optimizer=\"rmsprop\",\n",
    "              loss=\"binary_crossentropy\",\n",
    "              metrics=[\"accuracy\"])\n",
    "model.summary()"
   ]
  },
  {
   "cell_type": "markdown",
   "metadata": {
    "colab_type": "text"
   },
   "source": [
    "**Training and evaluating the Transformer encoder based model**"
   ]
  },
  {
   "cell_type": "code",
   "execution_count": 16,
   "metadata": {
    "colab_type": "code"
   },
   "outputs": [
    {
     "name": "stdout",
     "output_type": "stream",
     "text": [
      "Epoch 1/20\n",
      "1604/1604 [==============================] - 120s 71ms/step - loss: -3362.4597 - accuracy: 0.0134 - val_loss: 4432.3960 - val_accuracy: 0.4983\n",
      "Epoch 2/20\n",
      "1604/1604 [==============================] - 82s 51ms/step - loss: -17583.7969 - accuracy: 0.0134 - val_loss: 14659.9004 - val_accuracy: 0.4983\n",
      "Epoch 3/20\n",
      "1604/1604 [==============================] - 83s 51ms/step - loss: -43366.6094 - accuracy: 0.0134 - val_loss: 31042.5293 - val_accuracy: 0.4983\n",
      "Epoch 4/20\n",
      "1604/1604 [==============================] - 83s 51ms/step - loss: -81395.7656 - accuracy: 0.0134 - val_loss: 53695.7383 - val_accuracy: 0.4983\n",
      "Epoch 5/20\n",
      "1604/1604 [==============================] - 83s 51ms/step - loss: -131996.3438 - accuracy: 0.0134 - val_loss: 82949.5234 - val_accuracy: 0.4983\n",
      "Epoch 6/20\n",
      "1604/1604 [==============================] - 83s 52ms/step - loss: -195093.3281 - accuracy: 0.0134 - val_loss: 118864.5703 - val_accuracy: 0.4983\n",
      "Epoch 7/20\n",
      "1604/1604 [==============================] - 81s 51ms/step - loss: -270552.4688 - accuracy: 0.0134 - val_loss: 160379.9219 - val_accuracy: 0.4983\n",
      "Epoch 8/20\n",
      "1604/1604 [==============================] - 81s 51ms/step - loss: -358034.9062 - accuracy: 0.0134 - val_loss: 208687.5312 - val_accuracy: 0.4983\n",
      "Epoch 9/20\n",
      "1604/1604 [==============================] - 81s 51ms/step - loss: -458520.2812 - accuracy: 0.0134 - val_loss: 264334.2500 - val_accuracy: 0.4983\n",
      "Epoch 10/20\n",
      "1604/1604 [==============================] - 81s 51ms/step - loss: -571442.0625 - accuracy: 0.0134 - val_loss: 325826.1875 - val_accuracy: 0.4983\n",
      "Epoch 11/20\n",
      "1604/1604 [==============================] - 81s 51ms/step - loss: -697388.7500 - accuracy: 0.0134 - val_loss: 393717.0000 - val_accuracy: 0.4983\n",
      "Epoch 12/20\n",
      "1604/1604 [==============================] - 81s 51ms/step - loss: -834551.2500 - accuracy: 0.0134 - val_loss: 467424.2812 - val_accuracy: 0.4983\n",
      "Epoch 13/20\n",
      "1604/1604 [==============================] - 81s 51ms/step - loss: -984557.6250 - accuracy: 0.0134 - val_loss: 549401.0625 - val_accuracy: 0.4983\n",
      "Epoch 14/20\n",
      "1604/1604 [==============================] - 81s 51ms/step - loss: -1146989.1250 - accuracy: 0.0134 - val_loss: 634846.3125 - val_accuracy: 0.4983\n",
      "Epoch 15/20\n",
      "1604/1604 [==============================] - 81s 51ms/step - loss: -1321549.0000 - accuracy: 0.0134 - val_loss: 729668.6250 - val_accuracy: 0.4983\n",
      "Epoch 16/20\n",
      "1604/1604 [==============================] - 81s 51ms/step - loss: -1509411.3750 - accuracy: 0.0134 - val_loss: 829410.8125 - val_accuracy: 0.4983\n",
      "Epoch 17/20\n",
      "1604/1604 [==============================] - 81s 51ms/step - loss: -1709348.2500 - accuracy: 0.0134 - val_loss: 935610.4375 - val_accuracy: 0.4983\n",
      "Epoch 18/20\n",
      "1604/1604 [==============================] - 81s 51ms/step - loss: -1922085.7500 - accuracy: 0.0134 - val_loss: 1048488.7500 - val_accuracy: 0.4983\n",
      "Epoch 19/20\n",
      "1604/1604 [==============================] - 81s 51ms/step - loss: -2146753.7500 - accuracy: 0.0134 - val_loss: 1166607.3750 - val_accuracy: 0.4983\n",
      "Epoch 20/20\n",
      "1604/1604 [==============================] - 81s 51ms/step - loss: -2382797.0000 - accuracy: 0.0134 - val_loss: 1291867.0000 - val_accuracy: 0.4983\n",
      "782/782 [==============================] - 49s 61ms/step - loss: 4395.2764 - accuracy: 0.5000\n",
      "Test acc: 0.500\n"
     ]
    }
   ],
   "source": [
    "callbacks = [\n",
    "    keras.callbacks.ModelCheckpoint(\"transformer_encoder.keras\",\n",
    "                                    save_best_only=True)\n",
    "]\n",
    "model.fit(int_train_ds, validation_data=int_val_ds, epochs=20, callbacks=callbacks)\n",
    "model = keras.models.load_model(\n",
    "    \"transformer_encoder.keras\",\n",
    "    custom_objects={\"TransformerEncoder\": TransformerEncoder})\n",
    "print(f\"Test acc: {model.evaluate(int_test_ds)[1]:.3f}\")"
   ]
  },
  {
   "cell_type": "markdown",
   "metadata": {
    "colab_type": "text"
   },
   "source": [
    "#### Using positional encoding to re-inject order information"
   ]
  },
  {
   "cell_type": "markdown",
   "metadata": {
    "colab_type": "text"
   },
   "source": [
    "**Implementing positional embedding as a subclassed layer**"
   ]
  },
  {
   "cell_type": "code",
   "execution_count": 17,
   "metadata": {
    "colab_type": "code"
   },
   "outputs": [],
   "source": [
    "class PositionalEmbedding(layers.Layer):\n",
    "    def __init__(self, sequence_length, input_dim, output_dim, **kwargs):\n",
    "        super().__init__(**kwargs)\n",
    "        self.token_embeddings = layers.Embedding(\n",
    "            input_dim=input_dim, output_dim=output_dim)\n",
    "        self.position_embeddings = layers.Embedding(\n",
    "            input_dim=sequence_length, output_dim=output_dim)\n",
    "        self.sequence_length = sequence_length\n",
    "        self.input_dim = input_dim\n",
    "        self.output_dim = output_dim\n",
    "\n",
    "    def call(self, inputs):\n",
    "        length = tf.shape(inputs)[-1]\n",
    "        positions = tf.range(start=0, limit=length, delta=1)\n",
    "        embedded_tokens = self.token_embeddings(inputs)\n",
    "        embedded_positions = self.position_embeddings(positions)\n",
    "        return embedded_tokens + embedded_positions\n",
    "\n",
    "    def compute_mask(self, inputs, mask=None):\n",
    "        return tf.math.not_equal(inputs, 0)\n",
    "\n",
    "    def get_config(self):\n",
    "        config = super().get_config()\n",
    "        config.update({\n",
    "            \"output_dim\": self.output_dim,\n",
    "            \"sequence_length\": self.sequence_length,\n",
    "            \"input_dim\": self.input_dim,\n",
    "        })\n",
    "        return config"
   ]
  },
  {
   "cell_type": "markdown",
   "metadata": {
    "colab_type": "text"
   },
   "source": [
    "#### Putting it all together: A text-classification Transformer"
   ]
  },
  {
   "cell_type": "markdown",
   "metadata": {
    "colab_type": "text"
   },
   "source": [
    "**Combining the Transformer encoder with positional embedding**"
   ]
  },
  {
   "cell_type": "code",
   "execution_count": 18,
   "metadata": {
    "colab_type": "code"
   },
   "outputs": [
    {
     "name": "stdout",
     "output_type": "stream",
     "text": [
      "Model: \"model_1\"\n",
      "_________________________________________________________________\n",
      " Layer (type)                Output Shape              Param #   \n",
      "=================================================================\n",
      " input_2 (InputLayer)        [(None, None)]            0         \n",
      "                                                                 \n",
      " positional_embedding (Posit  (None, None, 256)        5273600   \n",
      " ionalEmbedding)                                                 \n",
      "                                                                 \n",
      " transformer_encoder_1 (Tran  (None, None, 256)        543776    \n",
      " sformerEncoder)                                                 \n",
      "                                                                 \n",
      " global_max_pooling1d_1 (Glo  (None, 256)              0         \n",
      " balMaxPooling1D)                                                \n",
      "                                                                 \n",
      " dropout_1 (Dropout)         (None, 256)               0         \n",
      "                                                                 \n",
      " dense_7 (Dense)             (None, 1)                 257       \n",
      "                                                                 \n",
      "=================================================================\n",
      "Total params: 5,817,633\n",
      "Trainable params: 5,817,633\n",
      "Non-trainable params: 0\n",
      "_________________________________________________________________\n",
      "Epoch 1/20\n",
      "1604/1604 [==============================] - 85s 52ms/step - loss: -5669.3438 - accuracy: 0.0134 - val_loss: 7385.9736 - val_accuracy: 0.4983\n",
      "Epoch 2/20\n",
      "1604/1604 [==============================] - 84s 52ms/step - loss: -28559.2168 - accuracy: 0.0134 - val_loss: 23879.2031 - val_accuracy: 0.4983\n",
      "Epoch 3/20\n",
      "1604/1604 [==============================] - 84s 52ms/step - loss: -69022.1484 - accuracy: 0.0134 - val_loss: 49484.5508 - val_accuracy: 0.4983\n",
      "Epoch 4/20\n",
      "1604/1604 [==============================] - 84s 52ms/step - loss: -126945.8984 - accuracy: 0.0134 - val_loss: 84211.9062 - val_accuracy: 0.4983\n",
      "Epoch 5/20\n",
      "1604/1604 [==============================] - 84s 52ms/step - loss: -202378.5312 - accuracy: 0.0134 - val_loss: 128102.4219 - val_accuracy: 0.4983\n",
      "Epoch 6/20\n",
      "1604/1604 [==============================] - 84s 52ms/step - loss: -295208.7812 - accuracy: 0.0134 - val_loss: 181045.5469 - val_accuracy: 0.4983\n",
      "Epoch 7/20\n",
      "1604/1604 [==============================] - 84s 52ms/step - loss: -405893.8125 - accuracy: 0.0134 - val_loss: 243140.9844 - val_accuracy: 0.4983\n",
      "Epoch 8/20\n",
      "1604/1604 [==============================] - 84s 52ms/step - loss: -533453.0000 - accuracy: 0.0134 - val_loss: 314311.9375 - val_accuracy: 0.4983\n",
      "Epoch 9/20\n",
      "1604/1604 [==============================] - 84s 52ms/step - loss: -679424.8125 - accuracy: 0.0134 - val_loss: 394621.5000 - val_accuracy: 0.4983\n",
      "Epoch 10/20\n",
      "1604/1604 [==============================] - 84s 52ms/step - loss: -842005.1875 - accuracy: 0.0134 - val_loss: 483993.4688 - val_accuracy: 0.4983\n",
      "Epoch 11/20\n",
      "1604/1604 [==============================] - 84s 52ms/step - loss: -1022301.3750 - accuracy: 0.0134 - val_loss: 582526.9375 - val_accuracy: 0.4983\n",
      "Epoch 12/20\n",
      "1604/1604 [==============================] - 84s 52ms/step - loss: -1220643.8750 - accuracy: 0.0134 - val_loss: 690213.0625 - val_accuracy: 0.4983\n",
      "Epoch 13/20\n",
      "1604/1604 [==============================] - 84s 52ms/step - loss: -1435579.8750 - accuracy: 0.0134 - val_loss: 806956.5000 - val_accuracy: 0.4983\n",
      "Epoch 14/20\n",
      "1604/1604 [==============================] - 84s 52ms/step - loss: -1668244.8750 - accuracy: 0.0134 - val_loss: 932883.1250 - val_accuracy: 0.4983\n",
      "Epoch 15/20\n",
      "1604/1604 [==============================] - 84s 52ms/step - loss: -1918877.6250 - accuracy: 0.0134 - val_loss: 1067892.2500 - val_accuracy: 0.4983\n",
      "Epoch 16/20\n",
      "1604/1604 [==============================] - 84s 52ms/step - loss: -2186457.2500 - accuracy: 0.0134 - val_loss: 1211922.8750 - val_accuracy: 0.4983\n",
      "Epoch 17/20\n",
      "1604/1604 [==============================] - 84s 53ms/step - loss: -2471432.7500 - accuracy: 0.0134 - val_loss: 1365034.3750 - val_accuracy: 0.4983\n",
      "Epoch 18/20\n",
      "1604/1604 [==============================] - 84s 52ms/step - loss: -2775598.2500 - accuracy: 0.0134 - val_loss: 1527304.6250 - val_accuracy: 0.4983\n",
      "Epoch 19/20\n",
      "1604/1604 [==============================] - 84s 52ms/step - loss: -3094418.5000 - accuracy: 0.0134 - val_loss: 1698771.2500 - val_accuracy: 0.4983\n",
      "Epoch 20/20\n",
      "1604/1604 [==============================] - 84s 52ms/step - loss: -3432679.5000 - accuracy: 0.0134 - val_loss: 1879350.8750 - val_accuracy: 0.4983\n",
      "782/782 [==============================] - 14s 18ms/step - loss: 7360.8945 - accuracy: 0.5000\n",
      "Test acc: 0.500\n"
     ]
    }
   ],
   "source": [
    "vocab_size = 20000\n",
    "sequence_length = 600\n",
    "embed_dim = 256\n",
    "num_heads = 2\n",
    "dense_dim = 32\n",
    "\n",
    "inputs = keras.Input(shape=(None,), dtype=\"int64\")\n",
    "x = PositionalEmbedding(sequence_length, vocab_size, embed_dim)(inputs)\n",
    "x = TransformerEncoder(embed_dim, dense_dim, num_heads)(x)\n",
    "x = layers.GlobalMaxPooling1D()(x)\n",
    "x = layers.Dropout(0.5)(x)\n",
    "outputs = layers.Dense(1, activation=\"sigmoid\")(x)\n",
    "model = keras.Model(inputs, outputs)\n",
    "model.compile(optimizer=\"rmsprop\",\n",
    "              loss=\"binary_crossentropy\",\n",
    "              metrics=[\"accuracy\"])\n",
    "model.summary()\n",
    "\n",
    "callbacks = [\n",
    "    keras.callbacks.ModelCheckpoint(\"full_transformer_encoder.keras\",\n",
    "                                    save_best_only=True)\n",
    "]\n",
    "model.fit(int_train_ds, validation_data=int_val_ds, epochs=20, callbacks=callbacks)\n",
    "model = keras.models.load_model(\n",
    "    \"full_transformer_encoder.keras\",\n",
    "    custom_objects={\"TransformerEncoder\": TransformerEncoder,\n",
    "                    \"PositionalEmbedding\": PositionalEmbedding})\n",
    "print(f\"Test acc: {model.evaluate(int_test_ds)[1]:.3f}\")"
   ]
  },
  {
   "cell_type": "markdown",
   "metadata": {
    "colab_type": "text"
   },
   "source": [
    "### When to use sequence models over bag-of-words models?"
   ]
  }
 ],
 "metadata": {
  "colab": {
   "collapsed_sections": [],
   "name": "chapter11_part03_transformer.i",
   "private_outputs": false,
   "provenance": [],
   "toc_visible": true
  },
  "kernelspec": {
   "display_name": "finbert",
   "language": "python",
   "name": "python3"
  },
  "language_info": {
   "codemirror_mode": {
    "name": "ipython",
    "version": 3
   },
   "file_extension": ".py",
   "mimetype": "text/x-python",
   "name": "python",
   "nbconvert_exporter": "python",
   "pygments_lexer": "ipython3",
   "version": "3.9.12"
  },
  "vscode": {
   "interpreter": {
    "hash": "dc2d75d2bbb1ab8d2c49183bedcbafe25b599ed2fa73b8834cc66076892a6e29"
   }
  }
 },
 "nbformat": 4,
 "nbformat_minor": 0
}
